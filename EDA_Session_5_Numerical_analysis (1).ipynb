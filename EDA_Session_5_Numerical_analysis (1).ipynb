{
 "cells": [
  {
   "cell_type": "markdown",
   "id": "e456eaa6-6549-4ce1-99ef-147ea709f1ea",
   "metadata": {},
   "source": [
    "**Import packages**"
   ]
  },
  {
   "cell_type": "code",
   "execution_count": 2,
   "id": "29f1fedf-ac80-4f46-aa11-3c0d3cb5b50e",
   "metadata": {},
   "outputs": [],
   "source": [
    "import pandas as pd\n",
    "import numpy as np\n",
    "import matplotlib.pyplot as plt\n",
    "import seaborn as sns"
   ]
  },
  {
   "cell_type": "markdown",
   "id": "e9b99b2a-7cc0-4d34-8e7a-1c76fdb17785",
   "metadata": {},
   "source": [
    "**Read the data**"
   ]
  },
  {
   "cell_type": "code",
   "execution_count": 3,
   "id": "100de8a5-c9db-46da-8639-c96854a8311b",
   "metadata": {},
   "outputs": [
    {
     "data": {
      "text/html": [
       "<div>\n",
       "<style scoped>\n",
       "    .dataframe tbody tr th:only-of-type {\n",
       "        vertical-align: middle;\n",
       "    }\n",
       "\n",
       "    .dataframe tbody tr th {\n",
       "        vertical-align: top;\n",
       "    }\n",
       "\n",
       "    .dataframe thead th {\n",
       "        text-align: right;\n",
       "    }\n",
       "</style>\n",
       "<table border=\"1\" class=\"dataframe\">\n",
       "  <thead>\n",
       "    <tr style=\"text-align: right;\">\n",
       "      <th></th>\n",
       "      <th>case_id</th>\n",
       "      <th>continent</th>\n",
       "      <th>education_of_employee</th>\n",
       "      <th>has_job_experience</th>\n",
       "      <th>requires_job_training</th>\n",
       "      <th>no_of_employees</th>\n",
       "      <th>yr_of_estab</th>\n",
       "      <th>region_of_employment</th>\n",
       "      <th>prevailing_wage</th>\n",
       "      <th>unit_of_wage</th>\n",
       "      <th>full_time_position</th>\n",
       "      <th>case_status</th>\n",
       "    </tr>\n",
       "  </thead>\n",
       "  <tbody>\n",
       "    <tr>\n",
       "      <th>0</th>\n",
       "      <td>EZYV01</td>\n",
       "      <td>Asia</td>\n",
       "      <td>High School</td>\n",
       "      <td>N</td>\n",
       "      <td>N</td>\n",
       "      <td>14513</td>\n",
       "      <td>2007</td>\n",
       "      <td>West</td>\n",
       "      <td>592.2029</td>\n",
       "      <td>Hour</td>\n",
       "      <td>Y</td>\n",
       "      <td>Denied</td>\n",
       "    </tr>\n",
       "    <tr>\n",
       "      <th>1</th>\n",
       "      <td>EZYV02</td>\n",
       "      <td>Asia</td>\n",
       "      <td>Master's</td>\n",
       "      <td>Y</td>\n",
       "      <td>N</td>\n",
       "      <td>2412</td>\n",
       "      <td>2002</td>\n",
       "      <td>Northeast</td>\n",
       "      <td>83425.6500</td>\n",
       "      <td>Year</td>\n",
       "      <td>Y</td>\n",
       "      <td>Certified</td>\n",
       "    </tr>\n",
       "  </tbody>\n",
       "</table>\n",
       "</div>"
      ],
      "text/plain": [
       "  case_id continent education_of_employee has_job_experience  \\\n",
       "0  EZYV01      Asia           High School                  N   \n",
       "1  EZYV02      Asia              Master's                  Y   \n",
       "\n",
       "  requires_job_training  no_of_employees  yr_of_estab region_of_employment  \\\n",
       "0                     N            14513         2007                 West   \n",
       "1                     N             2412         2002            Northeast   \n",
       "\n",
       "   prevailing_wage unit_of_wage full_time_position case_status  \n",
       "0         592.2029         Hour                  Y      Denied  \n",
       "1       83425.6500         Year                  Y   Certified  "
      ]
     },
     "execution_count": 3,
     "metadata": {},
     "output_type": "execute_result"
    }
   ],
   "source": [
    "visa_df=pd.read_csv(r\"C:\\Users\\lenovo\\Desktop\\Python\\Datafiles\\Visadataset.csv\")\n",
    "visa_df.head(2)"
   ]
  },
  {
   "cell_type": "markdown",
   "id": "d3192985-b572-43a6-b97e-11324a149464",
   "metadata": {},
   "source": [
    "**Select the numerical coulmns**"
   ]
  },
  {
   "cell_type": "code",
   "execution_count": 4,
   "id": "f25fa805-930c-4227-a7ec-3dcbcc64a7ee",
   "metadata": {},
   "outputs": [
    {
     "data": {
      "text/plain": [
       "Index(['no_of_employees', 'yr_of_estab', 'prevailing_wage'], dtype='object')"
      ]
     },
     "execution_count": 4,
     "metadata": {},
     "output_type": "execute_result"
    }
   ],
   "source": [
    "visa_df.select_dtypes(exclude='object').columns"
   ]
  },
  {
   "cell_type": "code",
   "execution_count": 5,
   "id": "1925cb3e-82ee-4030-9ee8-9955fb1536fd",
   "metadata": {},
   "outputs": [
    {
     "data": {
      "text/html": [
       "<div>\n",
       "<style scoped>\n",
       "    .dataframe tbody tr th:only-of-type {\n",
       "        vertical-align: middle;\n",
       "    }\n",
       "\n",
       "    .dataframe tbody tr th {\n",
       "        vertical-align: top;\n",
       "    }\n",
       "\n",
       "    .dataframe thead th {\n",
       "        text-align: right;\n",
       "    }\n",
       "</style>\n",
       "<table border=\"1\" class=\"dataframe\">\n",
       "  <thead>\n",
       "    <tr style=\"text-align: right;\">\n",
       "      <th></th>\n",
       "      <th>no_of_employees</th>\n",
       "      <th>yr_of_estab</th>\n",
       "      <th>prevailing_wage</th>\n",
       "    </tr>\n",
       "  </thead>\n",
       "  <tbody>\n",
       "    <tr>\n",
       "      <th>0</th>\n",
       "      <td>14513</td>\n",
       "      <td>2007</td>\n",
       "      <td>592.2029</td>\n",
       "    </tr>\n",
       "    <tr>\n",
       "      <th>1</th>\n",
       "      <td>2412</td>\n",
       "      <td>2002</td>\n",
       "      <td>83425.6500</td>\n",
       "    </tr>\n",
       "    <tr>\n",
       "      <th>2</th>\n",
       "      <td>44444</td>\n",
       "      <td>2008</td>\n",
       "      <td>122996.8600</td>\n",
       "    </tr>\n",
       "    <tr>\n",
       "      <th>3</th>\n",
       "      <td>98</td>\n",
       "      <td>1897</td>\n",
       "      <td>83434.0300</td>\n",
       "    </tr>\n",
       "    <tr>\n",
       "      <th>4</th>\n",
       "      <td>1082</td>\n",
       "      <td>2005</td>\n",
       "      <td>149907.3900</td>\n",
       "    </tr>\n",
       "    <tr>\n",
       "      <th>...</th>\n",
       "      <td>...</td>\n",
       "      <td>...</td>\n",
       "      <td>...</td>\n",
       "    </tr>\n",
       "    <tr>\n",
       "      <th>25475</th>\n",
       "      <td>2601</td>\n",
       "      <td>2008</td>\n",
       "      <td>77092.5700</td>\n",
       "    </tr>\n",
       "    <tr>\n",
       "      <th>25476</th>\n",
       "      <td>3274</td>\n",
       "      <td>2006</td>\n",
       "      <td>279174.7900</td>\n",
       "    </tr>\n",
       "    <tr>\n",
       "      <th>25477</th>\n",
       "      <td>1121</td>\n",
       "      <td>1910</td>\n",
       "      <td>146298.8500</td>\n",
       "    </tr>\n",
       "    <tr>\n",
       "      <th>25478</th>\n",
       "      <td>1918</td>\n",
       "      <td>1887</td>\n",
       "      <td>86154.7700</td>\n",
       "    </tr>\n",
       "    <tr>\n",
       "      <th>25479</th>\n",
       "      <td>3195</td>\n",
       "      <td>1960</td>\n",
       "      <td>70876.9100</td>\n",
       "    </tr>\n",
       "  </tbody>\n",
       "</table>\n",
       "<p>25480 rows × 3 columns</p>\n",
       "</div>"
      ],
      "text/plain": [
       "       no_of_employees  yr_of_estab  prevailing_wage\n",
       "0                14513         2007         592.2029\n",
       "1                 2412         2002       83425.6500\n",
       "2                44444         2008      122996.8600\n",
       "3                   98         1897       83434.0300\n",
       "4                 1082         2005      149907.3900\n",
       "...                ...          ...              ...\n",
       "25475             2601         2008       77092.5700\n",
       "25476             3274         2006      279174.7900\n",
       "25477             1121         1910      146298.8500\n",
       "25478             1918         1887       86154.7700\n",
       "25479             3195         1960       70876.9100\n",
       "\n",
       "[25480 rows x 3 columns]"
      ]
     },
     "execution_count": 5,
     "metadata": {},
     "output_type": "execute_result"
    }
   ],
   "source": [
    "visa_df.select_dtypes(exclude='object')"
   ]
  },
  {
   "cell_type": "code",
   "execution_count": null,
   "id": "ed5ed0d3-8d4f-4b05-8ba7-759b0c3ecc6b",
   "metadata": {},
   "outputs": [],
   "source": []
  },
  {
   "cell_type": "code",
   "execution_count": null,
   "id": "116be4d6-e982-4b9e-911d-06a2edd845d9",
   "metadata": {},
   "outputs": [],
   "source": []
  },
  {
   "cell_type": "markdown",
   "id": "26950a61-6242-432a-9fef-f1e316294120",
   "metadata": {},
   "source": [
    "**prevailing_wage**"
   ]
  },
  {
   "cell_type": "markdown",
   "id": "b50d6475-46e3-4564-9fe6-7aae0fc80c4d",
   "metadata": {},
   "source": [
    "- len\n",
    "\n",
    "- max\n",
    "\n",
    "- min\n",
    "\n",
    "- mean\n",
    "\n",
    "- median\n",
    "\n",
    "- std\n",
    "\n",
    "- 75%\n",
    "\n",
    "- 50%\n",
    "\n",
    "- 25%"
   ]
  },
  {
   "cell_type": "code",
   "execution_count": null,
   "id": "abb6df8e-555e-49fd-b153-c76327640f3a",
   "metadata": {},
   "outputs": [],
   "source": []
  },
  {
   "cell_type": "markdown",
   "id": "33a2e084-7775-40c3-81b7-312f4bb1f2dc",
   "metadata": {},
   "source": [
    "**count or len**"
   ]
  },
  {
   "cell_type": "code",
   "execution_count": 4,
   "id": "d2bfd8b2-252f-48c0-90cc-a1c90d89c846",
   "metadata": {},
   "outputs": [
    {
     "data": {
      "text/plain": [
       "25480"
      ]
     },
     "execution_count": 4,
     "metadata": {},
     "output_type": "execute_result"
    }
   ],
   "source": [
    "len(visa_df['prevailing_wage'])"
   ]
  },
  {
   "cell_type": "markdown",
   "id": "fef624b8-a0eb-444b-849c-a06e13e55628",
   "metadata": {},
   "source": [
    "**max**"
   ]
  },
  {
   "cell_type": "code",
   "execution_count": 5,
   "id": "d0663a5d-142f-408d-9ca6-3c3d84d8a961",
   "metadata": {},
   "outputs": [
    {
     "data": {
      "text/plain": [
       "319210.27"
      ]
     },
     "execution_count": 5,
     "metadata": {},
     "output_type": "execute_result"
    }
   ],
   "source": [
    "max(visa_df['prevailing_wage']) # Keyword"
   ]
  },
  {
   "cell_type": "code",
   "execution_count": 6,
   "id": "d7df0c05-0ba0-4d74-969e-18c7e178ada5",
   "metadata": {},
   "outputs": [
    {
     "data": {
      "text/plain": [
       "319210.27"
      ]
     },
     "execution_count": 6,
     "metadata": {},
     "output_type": "execute_result"
    }
   ],
   "source": [
    "visa_df['prevailing_wage'].max() # Pandas"
   ]
  },
  {
   "cell_type": "code",
   "execution_count": 7,
   "id": "2aec88d0-3ecf-4a8e-83b4-133c9f32a1d6",
   "metadata": {},
   "outputs": [
    {
     "data": {
      "text/plain": [
       "319210.27"
      ]
     },
     "execution_count": 7,
     "metadata": {},
     "output_type": "execute_result"
    }
   ],
   "source": [
    "np.max(visa_df['prevailing_wage']) # numpy"
   ]
  },
  {
   "cell_type": "markdown",
   "id": "c47a8e2b-dcea-4fb5-ae97-833df02f7685",
   "metadata": {},
   "source": [
    "**min**"
   ]
  },
  {
   "cell_type": "code",
   "execution_count": 8,
   "id": "6b2fc647-65a2-416f-bd89-23a9ff8daa27",
   "metadata": {},
   "outputs": [
    {
     "data": {
      "text/plain": [
       "2.1367"
      ]
     },
     "execution_count": 8,
     "metadata": {},
     "output_type": "execute_result"
    }
   ],
   "source": [
    "min(visa_df['prevailing_wage']) "
   ]
  },
  {
   "cell_type": "code",
   "execution_count": 9,
   "id": "d62993d9-0def-4790-b4e8-1f77fb2d5bf7",
   "metadata": {},
   "outputs": [
    {
     "data": {
      "text/plain": [
       "2.1367"
      ]
     },
     "execution_count": 9,
     "metadata": {},
     "output_type": "execute_result"
    }
   ],
   "source": [
    "visa_df['prevailing_wage'].min()\n"
   ]
  },
  {
   "cell_type": "code",
   "execution_count": 10,
   "id": "c52cb18e-0ba9-4e69-9a61-0bc6328880f2",
   "metadata": {},
   "outputs": [
    {
     "data": {
      "text/plain": [
       "2.1367"
      ]
     },
     "execution_count": 10,
     "metadata": {},
     "output_type": "execute_result"
    }
   ],
   "source": [
    "np.min(visa_df['prevailing_wage'])"
   ]
  },
  {
   "cell_type": "code",
   "execution_count": 11,
   "id": "611ce766-0f9d-417e-a6a2-c8757618f351",
   "metadata": {},
   "outputs": [],
   "source": [
    "#instead of len can we use nunique ?\n",
    "#how many uniques values different\n",
    "#how many total values different "
   ]
  },
  {
   "cell_type": "markdown",
   "id": "42db18b6-8afb-4ff9-89ff-ed5758a23ada",
   "metadata": {},
   "source": [
    "**mean**"
   ]
  },
  {
   "cell_type": "code",
   "execution_count": 12,
   "id": "d644acc7-9588-499a-8a70-3b305ad61485",
   "metadata": {},
   "outputs": [
    {
     "data": {
      "text/plain": [
       "74455.81459209183"
      ]
     },
     "execution_count": 12,
     "metadata": {},
     "output_type": "execute_result"
    }
   ],
   "source": [
    "visa_df['prevailing_wage'].mean()"
   ]
  },
  {
   "cell_type": "code",
   "execution_count": 13,
   "id": "8807d5f5-2f30-4893-8f3f-ccce0d1ee0ce",
   "metadata": {},
   "outputs": [
    {
     "data": {
      "text/plain": [
       "74455.81459209183"
      ]
     },
     "execution_count": 13,
     "metadata": {},
     "output_type": "execute_result"
    }
   ],
   "source": [
    "np.mean(visa_df['prevailing_wage'])"
   ]
  },
  {
   "cell_type": "markdown",
   "id": "0db22a93-fba9-49eb-9b77-99a6185ac430",
   "metadata": {},
   "source": [
    "**median**"
   ]
  },
  {
   "cell_type": "code",
   "execution_count": 14,
   "id": "73f4b7aa-48d0-453b-acf3-b9efd4380b56",
   "metadata": {},
   "outputs": [
    {
     "data": {
      "text/plain": [
       "70308.20999999999"
      ]
     },
     "execution_count": 14,
     "metadata": {},
     "output_type": "execute_result"
    }
   ],
   "source": [
    "visa_df['prevailing_wage'].median()"
   ]
  },
  {
   "cell_type": "code",
   "execution_count": 15,
   "id": "09d99901-1275-4da2-9ba5-140ce1538323",
   "metadata": {},
   "outputs": [
    {
     "data": {
      "text/plain": [
       "70308.20999999999"
      ]
     },
     "execution_count": 15,
     "metadata": {},
     "output_type": "execute_result"
    }
   ],
   "source": [
    "np.median(visa_df['prevailing_wage'])"
   ]
  },
  {
   "cell_type": "markdown",
   "id": "ec2be0f4-6951-4e0e-9a80-72a05002d161",
   "metadata": {},
   "source": [
    "**std**"
   ]
  },
  {
   "cell_type": "code",
   "execution_count": 16,
   "id": "f1c7eddd-1992-4374-80be-697fc5e937c8",
   "metadata": {},
   "outputs": [
    {
     "data": {
      "text/plain": [
       "52815.94232687357"
      ]
     },
     "execution_count": 16,
     "metadata": {},
     "output_type": "execute_result"
    }
   ],
   "source": [
    "visa_df['prevailing_wage'].std()"
   ]
  },
  {
   "cell_type": "code",
   "execution_count": 17,
   "id": "c7cb8de1-8f7e-409b-8694-819864bfe6d4",
   "metadata": {},
   "outputs": [
    {
     "data": {
      "text/plain": [
       "52814.90589711402"
      ]
     },
     "execution_count": 17,
     "metadata": {},
     "output_type": "execute_result"
    }
   ],
   "source": [
    "np.std(visa_df['prevailing_wage'])"
   ]
  },
  {
   "cell_type": "markdown",
   "id": "f56601e9-6e8c-4b36-a02c-75e9a8501d17",
   "metadata": {},
   "source": [
    "**Mode is not good option because it is numerical variable**"
   ]
  },
  {
   "cell_type": "code",
   "execution_count": 18,
   "id": "62f19dfb-0d30-4730-86b3-d98f8f02d7ad",
   "metadata": {},
   "outputs": [
    {
     "data": {
      "text/html": [
       "<div>\n",
       "<style scoped>\n",
       "    .dataframe tbody tr th:only-of-type {\n",
       "        vertical-align: middle;\n",
       "    }\n",
       "\n",
       "    .dataframe tbody tr th {\n",
       "        vertical-align: top;\n",
       "    }\n",
       "\n",
       "    .dataframe thead th {\n",
       "        text-align: right;\n",
       "    }\n",
       "</style>\n",
       "<table border=\"1\" class=\"dataframe\">\n",
       "  <thead>\n",
       "    <tr style=\"text-align: right;\">\n",
       "      <th></th>\n",
       "      <th>prevailing_wage</th>\n",
       "    </tr>\n",
       "  </thead>\n",
       "  <tbody>\n",
       "    <tr>\n",
       "      <th>count</th>\n",
       "      <td>25480.00</td>\n",
       "    </tr>\n",
       "    <tr>\n",
       "      <th>min</th>\n",
       "      <td>2.14</td>\n",
       "    </tr>\n",
       "    <tr>\n",
       "      <th>max</th>\n",
       "      <td>319210.27</td>\n",
       "    </tr>\n",
       "    <tr>\n",
       "      <th>mean</th>\n",
       "      <td>74455.81</td>\n",
       "    </tr>\n",
       "    <tr>\n",
       "      <th>median</th>\n",
       "      <td>70308.21</td>\n",
       "    </tr>\n",
       "    <tr>\n",
       "      <th>std</th>\n",
       "      <td>52815.94</td>\n",
       "    </tr>\n",
       "  </tbody>\n",
       "</table>\n",
       "</div>"
      ],
      "text/plain": [
       "        prevailing_wage\n",
       "count          25480.00\n",
       "min                2.14\n",
       "max           319210.27\n",
       "mean           74455.81\n",
       "median         70308.21\n",
       "std            52815.94"
      ]
     },
     "execution_count": 18,
     "metadata": {},
     "output_type": "execute_result"
    }
   ],
   "source": [
    "##All together\n",
    "wage_count=round(len(visa_df['prevailing_wage']),2)\n",
    "wage_min=round(visa_df['prevailing_wage'].min(),2)\n",
    "wage_max=round(visa_df['prevailing_wage'].max(),2)\n",
    "wage_mean=round(visa_df['prevailing_wage'].mean(),2)\n",
    "wage_median=round(visa_df['prevailing_wage'].median(),2)\n",
    "wage_std=round(visa_df['prevailing_wage'].std(),2)\n",
    "list_values=[wage_count,wage_min,wage_max,\n",
    "             wage_mean,wage_median,wage_std]\n",
    "index_val=['count','min','max','mean','median','std']\n",
    "pd.DataFrame(list_values,\n",
    "             columns=['prevailing_wage'],\n",
    "             index=index_val)"
   ]
  },
  {
   "cell_type": "markdown",
   "id": "e0998a4a-a55f-468f-a2af-6ad0552a5f20",
   "metadata": {},
   "source": [
    "**Percentile and Quantile**\n",
    "\n",
    "- Percentile:\n",
    "\n",
    "    - np.percentile()\n",
    "\n",
    "    - It will take two arguments\n",
    "\n",
    "      - data :a\n",
    "\n",
    "      - percentile: q  the values varies from 0 to 100\n",
    "\n",
    "      - if you want 50P data q=50\n",
    "\n",
    "- Quantile:\n",
    "\n",
    "    - np.quantile()\n",
    "\n",
    "    - It will take two arguments\n",
    "\n",
    "      - data :a\n",
    "\n",
    "      - percentile: q  the values varies from 0 to 1\n",
    "\n",
    "      - if you want 50p q=0.5"
   ]
  },
  {
   "cell_type": "markdown",
   "id": "4f765a1d-b6c7-4ed4-87d0-8b1eef840cf7",
   "metadata": {},
   "source": [
    "**25p-50p-75p**"
   ]
  },
  {
   "cell_type": "code",
   "execution_count": 19,
   "id": "61b1f673-133f-44d7-bf4d-3ef2963c51cd",
   "metadata": {},
   "outputs": [
    {
     "name": "stdout",
     "output_type": "stream",
     "text": [
      "the 25% data is 34015.48\n",
      "the 50% data is 70308.21\n",
      "the 75% data is 107735.51\n"
     ]
    }
   ],
   "source": [
    "wage_25p=round(np.percentile(visa_df['prevailing_wage'],25),2)\n",
    "wage_50p=round(np.percentile(visa_df['prevailing_wage'],50),2)\n",
    "wage_75p=round(np.percentile(visa_df['prevailing_wage'],75),2)\n",
    "\n",
    "print(f\"the 25% data is {wage_25p}\")\n",
    "print(f\"the 50% data is {wage_50p}\")\n",
    "print(f\"the 75% data is {wage_75p}\")"
   ]
  },
  {
   "cell_type": "code",
   "execution_count": 20,
   "id": "48ec248d-ceec-4e57-9d9a-f25a261faf94",
   "metadata": {},
   "outputs": [
    {
     "data": {
      "text/plain": [
       "345.89678"
      ]
     },
     "execution_count": 20,
     "metadata": {},
     "output_type": "execute_result"
    }
   ],
   "source": [
    "345.89678"
   ]
  },
  {
   "cell_type": "code",
   "execution_count": 21,
   "id": "e6dd162c-b569-4959-a43c-327ff83de066",
   "metadata": {},
   "outputs": [
    {
     "data": {
      "text/plain": [
       "345.9"
      ]
     },
     "execution_count": 21,
     "metadata": {},
     "output_type": "execute_result"
    }
   ],
   "source": [
    "round(345.89678,2)"
   ]
  },
  {
   "cell_type": "code",
   "execution_count": 22,
   "id": "ee1b0496-f22b-4fc9-807c-d2258c415f4b",
   "metadata": {},
   "outputs": [
    {
     "name": "stdout",
     "output_type": "stream",
     "text": [
      "the 25% data is 34015.48\n",
      "the 50% data is 70308.21\n",
      "the 75% data is 107735.51\n"
     ]
    }
   ],
   "source": [
    "wage_25p=round(np.quantile(visa_df['prevailing_wage'],0.25),2)\n",
    "wage_50p=round(np.quantile(visa_df['prevailing_wage'],0.50),2)\n",
    "wage_75p=round(np.quantile(visa_df['prevailing_wage'],0.75),2)\n",
    "\n",
    "print(f\"the 25% data is {wage_25p}\")\n",
    "print(f\"the 50% data is {wage_50p}\")\n",
    "print(f\"the 75% data is {wage_75p}\")"
   ]
  },
  {
   "cell_type": "markdown",
   "id": "7baa9696-b936-4292-b1fa-967774b39e0e",
   "metadata": {},
   "source": [
    "**Understand the percentiles**\n",
    "\n",
    "- defination of 25percentile\n",
    "\n",
    "    - there 25% of employees has salary less than 34015\n",
    "\n",
    "    - total employees= 25480 \n",
    "\n",
    "    - 25% of employees= 25*25480/100= 6370\n",
    "\n",
    "    - 6370 employees salary less than 34015\n"
   ]
  },
  {
   "cell_type": "code",
   "execution_count": 23,
   "id": "d3d2ea2f-1a2c-49c2-9ffb-8c08677d5ef3",
   "metadata": {},
   "outputs": [
    {
     "data": {
      "text/plain": [
       "6370"
      ]
     },
     "execution_count": 23,
     "metadata": {},
     "output_type": "execute_result"
    }
   ],
   "source": [
    "con=visa_df['prevailing_wage']<34015\n",
    "len(visa_df[con])"
   ]
  },
  {
   "cell_type": "code",
   "execution_count": 24,
   "id": "f001149b-236c-4a43-8b20-909a77e4afd8",
   "metadata": {},
   "outputs": [
    {
     "data": {
      "text/plain": [
       "6370"
      ]
     },
     "execution_count": 24,
     "metadata": {},
     "output_type": "execute_result"
    }
   ],
   "source": [
    "con=visa_df['prevailing_wage']<wage_25p\n",
    "len(visa_df[con])"
   ]
  },
  {
   "cell_type": "code",
   "execution_count": 25,
   "id": "dfba64ec-293b-4f9a-9740-897268ef83db",
   "metadata": {},
   "outputs": [
    {
     "data": {
      "text/plain": [
       "12740"
      ]
     },
     "execution_count": 25,
     "metadata": {},
     "output_type": "execute_result"
    }
   ],
   "source": [
    "con=visa_df['prevailing_wage']<wage_50p\n",
    "len(visa_df[con])\n",
    "\n",
    "#50*25480/100"
   ]
  },
  {
   "cell_type": "code",
   "execution_count": 26,
   "id": "acddfb42-3790-41f2-8534-3746995d47e2",
   "metadata": {},
   "outputs": [
    {
     "data": {
      "text/plain": [
       "19110"
      ]
     },
     "execution_count": 26,
     "metadata": {},
     "output_type": "execute_result"
    }
   ],
   "source": [
    "con=visa_df['prevailing_wage']<wage_75p\n",
    "len(visa_df[con])"
   ]
  },
  {
   "cell_type": "markdown",
   "id": "77db38e0-95bc-4327-be5d-f75b48bb268b",
   "metadata": {},
   "source": [
    "**Emperical rule (68-95-99.7)**\n",
    "\n",
    "<img id=\"dimg_477\" src=\"data:image/jpeg;base64,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\" class=\"YQ4gaf\" height=\"159\" style=\"object-position:0% 25%\" width=\"318\" alt=\"Empirical Rule (68-95-99.7) Explained ...\" data-csiid=\"50\" data-atf=\"1\">"
   ]
  },
  {
   "cell_type": "markdown",
   "id": "5f1fac96-fcbc-440f-b39e-12cfcc66d767",
   "metadata": {},
   "source": [
    "- First calculate mean value\n",
    "\n",
    "- Second calculate std value\n",
    "\n",
    "- Con1: mean-1*std\n",
    "\n",
    "- Con2: mean+1*std\n",
    "\n",
    "- If you apply above conditions on wage data , the output count\n",
    "  should be equal to 68percentile data\n",
    "\n",
    "- 68% of total employees: 17326"
   ]
  },
  {
   "cell_type": "code",
   "execution_count": 27,
   "id": "e4b31546-254a-474c-8be7-d31e600c237d",
   "metadata": {},
   "outputs": [
    {
     "data": {
      "text/plain": [
       "(17171, 17326.4)"
      ]
     },
     "execution_count": 27,
     "metadata": {},
     "output_type": "execute_result"
    }
   ],
   "source": [
    "v1=wage_mean-1*wage_std\n",
    "v2=wage_mean+1*wage_std\n",
    "con1=visa_df['prevailing_wage']>v1\n",
    "con2=visa_df['prevailing_wage']<v2\n",
    "\n",
    "count1=len(visa_df[con1 & con2])\n",
    "###############################################################\n",
    "count1 ,68*25480/100"
   ]
  },
  {
   "cell_type": "code",
   "execution_count": 28,
   "id": "a562880b-f5d0-415e-9337-449d6cf40cfe",
   "metadata": {},
   "outputs": [
    {
     "data": {
      "text/plain": [
       "(24582, 24206.0)"
      ]
     },
     "execution_count": 28,
     "metadata": {},
     "output_type": "execute_result"
    }
   ],
   "source": [
    "v1=wage_mean-2*wage_std\n",
    "v2=wage_mean+2*wage_std\n",
    "con1=visa_df['prevailing_wage']>v1\n",
    "con2=visa_df['prevailing_wage']<v2\n",
    "\n",
    "count1=len(visa_df[con1 & con2])\n",
    "###############################################################\n",
    "count1 ,95*25480/100"
   ]
  },
  {
   "cell_type": "code",
   "execution_count": 29,
   "id": "0584cf82-5948-4a5f-add0-a30d4cc64ad5",
   "metadata": {},
   "outputs": [
    {
     "data": {
      "text/plain": [
       "(25186, 25403.56)"
      ]
     },
     "execution_count": 29,
     "metadata": {},
     "output_type": "execute_result"
    }
   ],
   "source": [
    "v1=wage_mean-3*wage_std\n",
    "v2=wage_mean+3*wage_std\n",
    "con1=visa_df['prevailing_wage']>v1\n",
    "con2=visa_df['prevailing_wage']<v2\n",
    "\n",
    "count1=len(visa_df[con1 & con2])\n",
    "###############################################################\n",
    "count1 ,99.7*25480/100"
   ]
  },
  {
   "cell_type": "code",
   "execution_count": 30,
   "id": "14dfe8e0-7e40-4c4d-ae61-9be7c941713b",
   "metadata": {},
   "outputs": [
    {
     "data": {
      "text/html": [
       "<div>\n",
       "<style scoped>\n",
       "    .dataframe tbody tr th:only-of-type {\n",
       "        vertical-align: middle;\n",
       "    }\n",
       "\n",
       "    .dataframe tbody tr th {\n",
       "        vertical-align: top;\n",
       "    }\n",
       "\n",
       "    .dataframe thead th {\n",
       "        text-align: right;\n",
       "    }\n",
       "</style>\n",
       "<table border=\"1\" class=\"dataframe\">\n",
       "  <thead>\n",
       "    <tr style=\"text-align: right;\">\n",
       "      <th></th>\n",
       "      <th>prevailing_wage</th>\n",
       "    </tr>\n",
       "  </thead>\n",
       "  <tbody>\n",
       "    <tr>\n",
       "      <th>count</th>\n",
       "      <td>25480.00</td>\n",
       "    </tr>\n",
       "    <tr>\n",
       "      <th>min</th>\n",
       "      <td>2.14</td>\n",
       "    </tr>\n",
       "    <tr>\n",
       "      <th>max</th>\n",
       "      <td>319210.27</td>\n",
       "    </tr>\n",
       "    <tr>\n",
       "      <th>mean</th>\n",
       "      <td>74455.81</td>\n",
       "    </tr>\n",
       "    <tr>\n",
       "      <th>median</th>\n",
       "      <td>70308.21</td>\n",
       "    </tr>\n",
       "    <tr>\n",
       "      <th>std</th>\n",
       "      <td>52815.94</td>\n",
       "    </tr>\n",
       "    <tr>\n",
       "      <th>25%</th>\n",
       "      <td>34015.48</td>\n",
       "    </tr>\n",
       "    <tr>\n",
       "      <th>50%</th>\n",
       "      <td>70308.21</td>\n",
       "    </tr>\n",
       "    <tr>\n",
       "      <th>75%</th>\n",
       "      <td>107735.51</td>\n",
       "    </tr>\n",
       "  </tbody>\n",
       "</table>\n",
       "</div>"
      ],
      "text/plain": [
       "        prevailing_wage\n",
       "count          25480.00\n",
       "min                2.14\n",
       "max           319210.27\n",
       "mean           74455.81\n",
       "median         70308.21\n",
       "std            52815.94\n",
       "25%            34015.48\n",
       "50%            70308.21\n",
       "75%           107735.51"
      ]
     },
     "execution_count": 30,
     "metadata": {},
     "output_type": "execute_result"
    }
   ],
   "source": [
    "##All together\n",
    "wage_count=round(len(visa_df['prevailing_wage']),2)\n",
    "wage_min=round(visa_df['prevailing_wage'].min(),2)\n",
    "wage_max=round(visa_df['prevailing_wage'].max(),2)\n",
    "wage_mean=round(visa_df['prevailing_wage'].mean(),2)\n",
    "wage_median=round(visa_df['prevailing_wage'].median(),2)\n",
    "wage_std=round(visa_df['prevailing_wage'].std(),2)\n",
    "########################################################\n",
    "wage_25p=round(np.quantile(visa_df['prevailing_wage'],0.25),2)\n",
    "wage_50p=round(np.quantile(visa_df['prevailing_wage'],0.50),2)\n",
    "wage_75p=round(np.quantile(visa_df['prevailing_wage'],0.75),2)\n",
    "##################################################################\n",
    "list_values=[wage_count,wage_min,wage_max,\n",
    "             wage_mean,wage_median,wage_std,\n",
    "            wage_25p,wage_50p,wage_75p]\n",
    "index_val=['count','min','max',\n",
    "           'mean','median','std',\n",
    "          '25%','50%','75%']\n",
    "pd.DataFrame(list_values,\n",
    "             columns=['prevailing_wage'],\n",
    "             index=index_val)"
   ]
  },
  {
   "cell_type": "code",
   "execution_count": 10,
   "id": "a2cae3a0-965b-425f-a6ce-2d028e02b7ab",
   "metadata": {},
   "outputs": [
    {
     "data": {
      "text/html": [
       "<div>\n",
       "<style scoped>\n",
       "    .dataframe tbody tr th:only-of-type {\n",
       "        vertical-align: middle;\n",
       "    }\n",
       "\n",
       "    .dataframe tbody tr th {\n",
       "        vertical-align: top;\n",
       "    }\n",
       "\n",
       "    .dataframe thead th {\n",
       "        text-align: right;\n",
       "    }\n",
       "</style>\n",
       "<table border=\"1\" class=\"dataframe\">\n",
       "  <thead>\n",
       "    <tr style=\"text-align: right;\">\n",
       "      <th></th>\n",
       "      <th>no_of_employees</th>\n",
       "      <th>yr_of_estab</th>\n",
       "      <th>prevailing_wage</th>\n",
       "    </tr>\n",
       "  </thead>\n",
       "  <tbody>\n",
       "    <tr>\n",
       "      <th>count</th>\n",
       "      <td>25480.00</td>\n",
       "      <td>25480.00</td>\n",
       "      <td>25480.00</td>\n",
       "    </tr>\n",
       "    <tr>\n",
       "      <th>min</th>\n",
       "      <td>-26.00</td>\n",
       "      <td>1800.00</td>\n",
       "      <td>2.14</td>\n",
       "    </tr>\n",
       "    <tr>\n",
       "      <th>max</th>\n",
       "      <td>602069.00</td>\n",
       "      <td>2016.00</td>\n",
       "      <td>319210.27</td>\n",
       "    </tr>\n",
       "    <tr>\n",
       "      <th>mean</th>\n",
       "      <td>5667.04</td>\n",
       "      <td>1979.41</td>\n",
       "      <td>74455.81</td>\n",
       "    </tr>\n",
       "    <tr>\n",
       "      <th>median</th>\n",
       "      <td>2109.00</td>\n",
       "      <td>1997.00</td>\n",
       "      <td>70308.21</td>\n",
       "    </tr>\n",
       "    <tr>\n",
       "      <th>std</th>\n",
       "      <td>22877.93</td>\n",
       "      <td>42.37</td>\n",
       "      <td>52815.94</td>\n",
       "    </tr>\n",
       "    <tr>\n",
       "      <th>25%</th>\n",
       "      <td>1022.00</td>\n",
       "      <td>1976.00</td>\n",
       "      <td>34015.48</td>\n",
       "    </tr>\n",
       "    <tr>\n",
       "      <th>50%</th>\n",
       "      <td>2109.00</td>\n",
       "      <td>1997.00</td>\n",
       "      <td>70308.21</td>\n",
       "    </tr>\n",
       "    <tr>\n",
       "      <th>75%</th>\n",
       "      <td>3504.00</td>\n",
       "      <td>2005.00</td>\n",
       "      <td>107735.51</td>\n",
       "    </tr>\n",
       "  </tbody>\n",
       "</table>\n",
       "</div>"
      ],
      "text/plain": [
       "        no_of_employees  yr_of_estab  prevailing_wage\n",
       "count          25480.00     25480.00         25480.00\n",
       "min              -26.00      1800.00             2.14\n",
       "max           602069.00      2016.00        319210.27\n",
       "mean            5667.04      1979.41         74455.81\n",
       "median          2109.00      1997.00         70308.21\n",
       "std            22877.93        42.37         52815.94\n",
       "25%             1022.00      1976.00         34015.48\n",
       "50%             2109.00      1997.00         70308.21\n",
       "75%             3504.00      2005.00        107735.51"
      ]
     },
     "execution_count": 10,
     "metadata": {},
     "output_type": "execute_result"
    }
   ],
   "source": [
    "##All together\n",
    "l1=[]\n",
    "cols=visa_df.select_dtypes(exclude='object').columns\n",
    "for i in cols:\n",
    "    countt=round(len(visa_df[i]),2)\n",
    "    minn=round(visa_df[i].min(),2)\n",
    "    maax=round(visa_df[i].max(),2)\n",
    "    mean=round(visa_df[i].mean(),2)\n",
    "    median=round(visa_df[i].median(),2)\n",
    "    std=round(visa_df[i].std(),2)\n",
    "    ########################################################\n",
    "    p_25=round(np.quantile(visa_df[i],0.25),2)\n",
    "    p_50=round(np.quantile(visa_df[i],0.50),2)\n",
    "    p_75=round(np.quantile(visa_df[i],0.75),2)\n",
    "    ##################################################################\n",
    "    l1.append([countt,minn,maax,mean,median,std,p_25,p_50,p_75])\n",
    "\n",
    "index_val=['count','min','max',\n",
    "           'mean','median','std',\n",
    "          '25%','50%','75%']\n",
    "df=pd.DataFrame(l1,\n",
    "                columns=index_val,\n",
    "                index=cols).T\n",
    "df"
   ]
  },
  {
   "cell_type": "code",
   "execution_count": 15,
   "id": "631d611b-057b-4aa9-81d0-a0236d41af80",
   "metadata": {},
   "outputs": [
    {
     "data": {
      "text/plain": [
       "Index(['no_of_employees', 'yr_of_estab', 'prevailing_wage'], dtype='object')"
      ]
     },
     "execution_count": 15,
     "metadata": {},
     "output_type": "execute_result"
    }
   ],
   "source": [
    "cols=visa_df.select_dtypes(exclude='object').columns\n",
    "cols\n"
   ]
  },
  {
   "cell_type": "code",
   "execution_count": 16,
   "id": "4e00ffe6-decc-4f75-ace9-2ea9805bfdfa",
   "metadata": {},
   "outputs": [
    {
     "data": {
      "text/plain": [
       "3"
      ]
     },
     "execution_count": 16,
     "metadata": {},
     "output_type": "execute_result"
    }
   ],
   "source": [
    "len(cols)"
   ]
  },
  {
   "cell_type": "code",
   "execution_count": 9,
   "id": "d614fdf7-ae49-41a6-9656-82244e0a7882",
   "metadata": {},
   "outputs": [],
   "source": [
    "# Whatever we did till now\n",
    "# will incresae our python skil"
   ]
  },
  {
   "cell_type": "markdown",
   "id": "62209f5d-17b2-48a0-8a9b-a4de316251b1",
   "metadata": {},
   "source": [
    "**Describe**\n",
    "\n",
    "- It is for only numerical data"
   ]
  },
  {
   "cell_type": "code",
   "execution_count": 43,
   "id": "8b942389-b81d-448e-ab73-179a87c98d2d",
   "metadata": {},
   "outputs": [
    {
     "data": {
      "text/html": [
       "<div>\n",
       "<style scoped>\n",
       "    .dataframe tbody tr th:only-of-type {\n",
       "        vertical-align: middle;\n",
       "    }\n",
       "\n",
       "    .dataframe tbody tr th {\n",
       "        vertical-align: top;\n",
       "    }\n",
       "\n",
       "    .dataframe thead th {\n",
       "        text-align: right;\n",
       "    }\n",
       "</style>\n",
       "<table border=\"1\" class=\"dataframe\">\n",
       "  <thead>\n",
       "    <tr style=\"text-align: right;\">\n",
       "      <th></th>\n",
       "      <th>no_of_employees</th>\n",
       "      <th>yr_of_estab</th>\n",
       "      <th>prevailing_wage</th>\n",
       "    </tr>\n",
       "  </thead>\n",
       "  <tbody>\n",
       "    <tr>\n",
       "      <th>count</th>\n",
       "      <td>25480.000000</td>\n",
       "      <td>25480.000000</td>\n",
       "      <td>25480.000000</td>\n",
       "    </tr>\n",
       "    <tr>\n",
       "      <th>mean</th>\n",
       "      <td>5667.043210</td>\n",
       "      <td>1979.409929</td>\n",
       "      <td>74455.814592</td>\n",
       "    </tr>\n",
       "    <tr>\n",
       "      <th>std</th>\n",
       "      <td>22877.928848</td>\n",
       "      <td>42.366929</td>\n",
       "      <td>52815.942327</td>\n",
       "    </tr>\n",
       "    <tr>\n",
       "      <th>min</th>\n",
       "      <td>-26.000000</td>\n",
       "      <td>1800.000000</td>\n",
       "      <td>2.136700</td>\n",
       "    </tr>\n",
       "    <tr>\n",
       "      <th>25%</th>\n",
       "      <td>1022.000000</td>\n",
       "      <td>1976.000000</td>\n",
       "      <td>34015.480000</td>\n",
       "    </tr>\n",
       "    <tr>\n",
       "      <th>50%</th>\n",
       "      <td>2109.000000</td>\n",
       "      <td>1997.000000</td>\n",
       "      <td>70308.210000</td>\n",
       "    </tr>\n",
       "    <tr>\n",
       "      <th>75%</th>\n",
       "      <td>3504.000000</td>\n",
       "      <td>2005.000000</td>\n",
       "      <td>107735.512500</td>\n",
       "    </tr>\n",
       "    <tr>\n",
       "      <th>max</th>\n",
       "      <td>602069.000000</td>\n",
       "      <td>2016.000000</td>\n",
       "      <td>319210.270000</td>\n",
       "    </tr>\n",
       "  </tbody>\n",
       "</table>\n",
       "</div>"
      ],
      "text/plain": [
       "       no_of_employees   yr_of_estab  prevailing_wage\n",
       "count     25480.000000  25480.000000     25480.000000\n",
       "mean       5667.043210   1979.409929     74455.814592\n",
       "std       22877.928848     42.366929     52815.942327\n",
       "min         -26.000000   1800.000000         2.136700\n",
       "25%        1022.000000   1976.000000     34015.480000\n",
       "50%        2109.000000   1997.000000     70308.210000\n",
       "75%        3504.000000   2005.000000    107735.512500\n",
       "max      602069.000000   2016.000000    319210.270000"
      ]
     },
     "execution_count": 43,
     "metadata": {},
     "output_type": "execute_result"
    }
   ],
   "source": [
    "visa_df.describe()"
   ]
  },
  {
   "cell_type": "code",
   "execution_count": null,
   "id": "9d2f72c2-07c2-4ebe-bfbb-3604367f2d1e",
   "metadata": {},
   "outputs": [],
   "source": []
  },
  {
   "cell_type": "code",
   "execution_count": 13,
   "id": "68c2f54d-e65f-4b18-959d-d240e617b56f",
   "metadata": {},
   "outputs": [
    {
     "data": {
      "text/plain": [
       "25480"
      ]
     },
     "execution_count": 13,
     "metadata": {},
     "output_type": "execute_result"
    }
   ],
   "source": [
    "len(visa_df['prevailing_wage'])"
   ]
  },
  {
   "cell_type": "markdown",
   "id": "64a70904-3401-4aa1-aae1-171e4f75e0b9",
   "metadata": {},
   "source": [
    "**Histogram**"
   ]
  },
  {
   "cell_type": "markdown",
   "id": "739627a6-4848-44ba-a79b-c3dfe772ced5",
   "metadata": {},
   "source": [
    "- Histogram can get by matplotlib\n",
    "\n",
    "- Histogram can get by seaborn also\n",
    "\n",
    "- plt.hist()"
   ]
  },
  {
   "cell_type": "code",
   "execution_count": 11,
   "id": "df9a64df-4467-472e-bfeb-517a88e9681c",
   "metadata": {},
   "outputs": [
    {
     "data": {
      "text/plain": [
       "(array([6038., 5504., 5681., 4551., 2334.,  624.,  373.,  240.,  114.,\n",
       "          21.]),\n",
       " array([2.13670000e+00, 3.19229500e+04, 6.38437634e+04, 9.57645767e+04,\n",
       "        1.27685390e+05, 1.59606203e+05, 1.91527017e+05, 2.23447830e+05,\n",
       "        2.55368643e+05, 2.87289457e+05, 3.19210270e+05]),\n",
       " <BarContainer object of 10 artists>)"
      ]
     },
     "execution_count": 11,
     "metadata": {},
     "output_type": "execute_result"
    },
    {
     "data": {
      "image/png": "[encoded data removed]",
      "text/plain": [
       "<Figure size 640x480 with 1 Axes>"
      ]
     },
     "metadata": {},
     "output_type": "display_data"
    }
   ],
   "source": [
    "import matplotlib.pyplot as plt\n",
    "plt.hist(visa_df['prevailing_wage'])"
   ]
  },
  {
   "cell_type": "markdown",
   "id": "86f3d4db-c71d-4b2b-bcf9-8ab98f214bae",
   "metadata": {},
   "source": [
    "from interval range \n",
    "\n",
    "- 2.13670000e+00 to 3.19229500e+04\n",
    "\n",
    "  - 6038 members have salary between above range\n",
    "\n",
    "- 3.19229500e+04 to 6.38437634e+04\n",
    "\n",
    "  - 5504 members have salary\n",
    "\n",
    "- Histogram will give 3 outputs\n",
    "\n",
    "    - frequency\n",
    "\n",
    "        - in each interval range how many observations are there\n",
    "\n",
    "    - interval\n",
    "\n",
    "        - interval range\n",
    "\n",
    "    - number of intervals"
   ]
  },
  {
   "cell_type": "markdown",
   "id": "7df4606f-f487-4d72-aa27-1629911c65c4",
   "metadata": {},
   "source": [
    "**Check point-1**"
   ]
  },
  {
   "cell_type": "code",
   "execution_count": 47,
   "id": "0c40c54d-ea36-4e97-988e-cb61d10c62d7",
   "metadata": {},
   "outputs": [
    {
     "data": {
      "text/plain": [
       "(2.1367, 31922.95)"
      ]
     },
     "execution_count": 47,
     "metadata": {},
     "output_type": "execute_result"
    }
   ],
   "source": [
    "2.13670000e+00, 3.19229500e+04"
   ]
  },
  {
   "cell_type": "code",
   "execution_count": 49,
   "id": "fd22fc14-4058-457e-b5e6-6d1c36170e21",
   "metadata": {},
   "outputs": [
    {
     "data": {
      "text/plain": [
       "6038"
      ]
     },
     "execution_count": 49,
     "metadata": {},
     "output_type": "execute_result"
    }
   ],
   "source": [
    "con1=visa_df['prevailing_wage']>=2.1367\n",
    "con2=visa_df['prevailing_wage']<31922.95\n",
    "len(visa_df[con1&con2])"
   ]
  },
  {
   "cell_type": "markdown",
   "id": "41d48156-b611-4b1b-a42b-12c396e34e0a",
   "metadata": {},
   "source": [
    "**Bins**"
   ]
  },
  {
   "cell_type": "code",
   "execution_count": 53,
   "id": "5833e764-bd35-4586-995c-b573926de569",
   "metadata": {},
   "outputs": [
    {
     "name": "stdout",
     "output_type": "stream",
     "text": [
      "<BarContainer object of 40 artists>\n"
     ]
    },
    {
     "data": {
      "image/png": "[encoded data removed]",
      "text/plain": [
       "<Figure size 640x480 with 1 Axes>"
      ]
     },
     "metadata": {},
     "output_type": "display_data"
    }
   ],
   "source": [
    "import matplotlib.pyplot as plt\n",
    "f,i,n=plt.hist(visa_df['prevailing_wage'],\n",
    "        bins=40)\n",
    "\n",
    "print(n)"
   ]
  },
  {
   "cell_type": "code",
   "execution_count": 55,
   "id": "81992614-8c89-4652-8825-753cd594d98e",
   "metadata": {},
   "outputs": [
    {
     "data": {
      "image/png": "[encoded data removed]",
      "text/plain": [
       "<Figure size 640x480 with 1 Axes>"
      ]
     },
     "metadata": {},
     "output_type": "display_data"
    }
   ],
   "source": [
    "import matplotlib.pyplot as plt\n",
    "plt.hist(visa_df['prevailing_wage'],bins=40)\n",
    "plt.title(\"Histogram\")\n",
    "plt.xlabel(\"class Interval\")\n",
    "plt.ylabel(\"count\")\n",
    "plt.show()"
   ]
  },
  {
   "cell_type": "code",
   "execution_count": 57,
   "id": "e7a7bdce-3de5-4a66-8831-b99f65bd2beb",
   "metadata": {},
   "outputs": [
    {
     "data": {
      "text/plain": [
       "Index(['no_of_employees', 'yr_of_estab', 'prevailing_wage'], dtype='object')"
      ]
     },
     "execution_count": 57,
     "metadata": {},
     "output_type": "execute_result"
    }
   ],
   "source": [
    "cols"
   ]
  },
  {
   "cell_type": "code",
   "execution_count": 19,
   "id": "a0941ebc-bb76-4717-8f19-ce6d54366566",
   "metadata": {},
   "outputs": [
    {
     "data": {
      "text/plain": [
       "Text(0, 0.5, 'count')"
      ]
     },
     "execution_count": 19,
     "metadata": {},
     "output_type": "execute_result"
    },
    {
     "data": {
      "image/png": "[encoded data removed]",
      "text/plain": [
       "<Figure size 1800x300 with 3 Axes>"
      ]
     },
     "metadata": {},
     "output_type": "display_data"
    }
   ],
   "source": [
    "import matplotlib.pyplot as plt\n",
    "plt.figure(figsize=(18,3))\n",
    "plt.subplot(1,3,1)\n",
    "plt.hist(visa_df['prevailing_wage'],bins=40)\n",
    "plt.title(\"Histogram\")\n",
    "plt.xlabel(\"class Interval\")\n",
    "plt.ylabel(\"count\")\n",
    "\n",
    "plt.subplot(1,3,2)\n",
    "plt.hist(visa_df['no_of_employees'],bins=40)\n",
    "plt.title(\"Histogram\")\n",
    "plt.xlabel(\"class Interval\")\n",
    "plt.ylabel(\"count\")\n",
    "\n",
    "\n",
    "plt.subplot(1,3,3)\n",
    "plt.hist(visa_df['yr_of_estab'],bins=40)\n",
    "plt.title(\"Histogram\")\n",
    "plt.xlabel(\"class Interval\")\n",
    "plt.ylabel(\"count\")"
   ]
  },
  {
   "cell_type": "code",
   "execution_count": 64,
   "id": "13533b69-d9de-455e-a289-0d10314ee94a",
   "metadata": {},
   "outputs": [
    {
     "data": {
      "image/png": "[encoded data removed]",
      "text/plain": [
       "<Figure size 1800x300 with 3 Axes>"
      ]
     },
     "metadata": {},
     "output_type": "display_data"
    }
   ],
   "source": [
    "import matplotlib.pyplot as plt\n",
    "plt.figure(figsize=(18,3))\n",
    "for i in range(len(cols)):\n",
    "    plt.subplot(1,len(cols),i+1)\n",
    "    plt.hist(visa_df[cols[i]],bins=40)\n",
    "    plt.title(f\"Histogram of {cols[i]}\")\n",
    "    plt.xlabel(\"class Interval\")\n",
    "    plt.ylabel(\"count\")"
   ]
  },
  {
   "cell_type": "markdown",
   "id": "b750f117-6a36-4f08-8384-7043f2fa49fb",
   "metadata": {},
   "source": [
    "**Histogram using seaborn**\n",
    "\n",
    "- histplot\n",
    "\n",
    "- distplot"
   ]
  },
  {
   "cell_type": "code",
   "execution_count": 65,
   "id": "b7c51f67-b941-4016-9ee4-cffe2bf7422f",
   "metadata": {},
   "outputs": [],
   "source": [
    "import seaborn as sns"
   ]
  },
  {
   "cell_type": "code",
   "execution_count": 66,
   "id": "27bbc3d9-8811-4a6e-92a7-c73a150b33bb",
   "metadata": {},
   "outputs": [
    {
     "name": "stderr",
     "output_type": "stream",
     "text": [
      "C:\\Users\\omkar\\anaconda3\\Lib\\site-packages\\seaborn\\_oldcore.py:1119: FutureWarning: use_inf_as_na option is deprecated and will be removed in a future version. Convert inf values to NaN before operating instead.\n",
      "  with pd.option_context('mode.use_inf_as_na', True):\n"
     ]
    },
    {
     "data": {
      "text/plain": [
       "<Axes: xlabel='prevailing_wage', ylabel='Count'>"
      ]
     },
     "execution_count": 66,
     "metadata": {},
     "output_type": "execute_result"
    },
    {
     "data": {
      "image/png": "[encoded data removed]",
      "text/plain": [
       "<Figure size 640x480 with 1 Axes>"
      ]
     },
     "metadata": {},
     "output_type": "display_data"
    }
   ],
   "source": [
    "sns.histplot(visa_df['prevailing_wage'])"
   ]
  },
  {
   "cell_type": "code",
   "execution_count": 69,
   "id": "848dcaa7-1693-43bb-9e4e-fb54e669cf49",
   "metadata": {},
   "outputs": [
    {
     "data": {
      "text/plain": [
       "<Axes: xlabel='prevailing_wage', ylabel='Density'>"
      ]
     },
     "execution_count": 69,
     "metadata": {},
     "output_type": "execute_result"
    },
    {
     "data": {
      "image/png": "[encoded data removed]",
      "text/plain": [
       "<Figure size 640x480 with 1 Axes>"
      ]
     },
     "metadata": {},
     "output_type": "display_data"
    }
   ],
   "source": [
    "import warnings\n",
    "warnings.filterwarnings(\"ignore\")\n",
    "\n",
    "sns.distplot(visa_df['prevailing_wage'])"
   ]
  },
  {
   "cell_type": "code",
   "execution_count": 68,
   "id": "fc1e2a2b-a4ff-4049-96b6-52b460aeb7bd",
   "metadata": {},
   "outputs": [
    {
     "name": "stderr",
     "output_type": "stream",
     "text": [
      "C:\\Users\\omkar\\anaconda3\\Lib\\site-packages\\seaborn\\_oldcore.py:1119: FutureWarning: use_inf_as_na option is deprecated and will be removed in a future version. Convert inf values to NaN before operating instead.\n",
      "  with pd.option_context('mode.use_inf_as_na', True):\n"
     ]
    },
    {
     "data": {
      "text/plain": [
       "<seaborn.axisgrid.FacetGrid at 0x20e42f91550>"
      ]
     },
     "execution_count": 68,
     "metadata": {},
     "output_type": "execute_result"
    },
    {
     "data": {
      "image/png": "[encoded data removed]",
      "text/plain": [
       "<Figure size 500x500 with 1 Axes>"
      ]
     },
     "metadata": {},
     "output_type": "display_data"
    }
   ],
   "source": [
    "sns.displot(visa_df['prevailing_wage'])"
   ]
  },
  {
   "cell_type": "code",
   "execution_count": null,
   "id": "6f451fa8-6e5d-49da-905e-c5725f918100",
   "metadata": {},
   "outputs": [],
   "source": []
  }
 ],
 "metadata": {
  "kernelspec": {
   "display_name": "Python 3 (ipykernel)",
   "language": "python",
   "name": "python3"
  },
  "language_info": {
   "codemirror_mode": {
    "name": "ipython",
    "version": 3
   },
   "file_extension": ".py",
   "mimetype": "text/x-python",
   "name": "python",
   "nbconvert_exporter": "python",
   "pygments_lexer": "ipython3",
   "version": "3.12.2"
  }
 },
 "nbformat": 4,
 "nbformat_minor": 5
}
